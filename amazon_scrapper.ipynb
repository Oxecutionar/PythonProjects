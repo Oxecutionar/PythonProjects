{
 "cells": [
  {
   "cell_type": "code",
   "execution_count": 104,
   "metadata": {},
   "outputs": [],
   "source": [
    "# Import libs\n",
    "# while this does work, Amazon has recently timed out requests and a proxy is needed as a workaround.\n",
    "\n",
    "\n",
    "from bs4 import BeautifulSoup\n",
    "\n",
    "import requests\n",
    "import smtplib\n",
    "import time\n",
    "import datetime\n"
   ]
  },
  {
   "cell_type": "code",
   "execution_count": null,
   "metadata": {},
   "outputs": [],
   "source": [
    "# connect to website\n",
    "\n",
    "URL = \"https://www.amazon.com/TRUSCEND-Swimbaits-Swimming-Freshwater-Saltwater/dp/B07GP1DL4K/ref=sr_1_4_sspa?crid=2Y5B5B3XM27J7&keywords=fishing+tackle&qid=1678294514&sprefix=fishing+tackl%2Caps%2C115&sr=8-4-spons&psc=1&spLa=ZW5jcnlwdGVkUXVhbGlmaWVyPUEzUE42SjVXTThPMVNZJmVuY3J5cHRlZElkPUEwMDI3MTkyMUlURzlRWlBHOU1ZUCZlbmNyeXB0ZWRBZElkPUEwNTM2NDgyMUQySVBCUkFPUEIzQSZ3aWRnZXROYW1lPXNwX2F0ZiZhY3Rpb249Y2xpY2tSZWRpcmVjdCZkb05vdExvZ0NsaWNrPXRydWU=\"\n",
    "HEADERS = ({\"User-Agent\": \"Mozilla/5.0 (Windows NT 10.0; Win64; x64) AppleWebKit/537.36 (KHTML, like Gecko) Chrome/110.0.0.0 Safari/537.36\"})\n",
    "\n",
    "\n",
    "page = requests.get(URL, headers=HEADERS)\n",
    "\n",
    "soup1 = BeautifulSoup(page.content,\"lxml\")\n",
    "\n",
    "title = soup1.find(id = \"productTitle\").get_text()\n",
    "\n",
    "price = soup1.find(id='priceblock_ourprice').get_text()\n",
    "\n",
    "print(title)\n",
    "print(price)"
   ]
  },
  {
   "cell_type": "code",
   "execution_count": null,
   "metadata": {},
   "outputs": [],
   "source": [
    "#takes from first int, removes dollar sign \\ strips title \n",
    "price = price.strip()[1:]\n",
    "title = title.strip()"
   ]
  },
  {
   "cell_type": "code",
   "execution_count": null,
   "metadata": {},
   "outputs": [],
   "source": [
    "#adds the current date for when data is taken\n",
    "import datetime\n",
    "\n",
    "today = datetime.date.today()\n"
   ]
  },
  {
   "cell_type": "code",
   "execution_count": null,
   "metadata": {},
   "outputs": [],
   "source": [
    "# creating CSV file, with header included - used once\n",
    "import csv\n",
    "\n",
    "header = ['title', 'price','date']\n",
    "data = [title, price, today]\n",
    "\n",
    "\n",
    "#newline removes spaces between\n",
    "WITH open('TackleTracker.csv', 'w', newline='', encoding='UTF8') as f:\n",
    "    writer = csv.writer(f)\n",
    "    writer.writerow(header)\n",
    "    writer.writerow(data)\n"
   ]
  },
  {
   "cell_type": "code",
   "execution_count": 2,
   "metadata": {},
   "outputs": [
    {
     "name": "stdout",
     "output_type": "stream",
     "text": [
      "2023-03-08\n"
     ]
    }
   ],
   "source": [
    "#checking on file output and date input\n",
    "\n",
    "import pandas as pd\n",
    "\n",
    "df = pd.read_csv(**CSV FILE***)\n",
    "\n",
    "print(df)"
   ]
  },
  {
   "cell_type": "code",
   "execution_count": null,
   "metadata": {},
   "outputs": [],
   "source": [
    "#appending the data in the CSV\n",
    "WITH open('TackleTracker.csv', 'a+', newline='', encoding='UTF8') as f:\n",
    "    writer = csv.writer(f)\n",
    "    writer.writerow(data)"
   ]
  },
  {
   "cell_type": "code",
   "execution_count": null,
   "metadata": {},
   "outputs": [],
   "source": [
    "#takes all of the above and places it into a variable that can be called later and used easier\n",
    "\n",
    "def check_price():\n",
    "    URL = \"https://www.amazon.com/TRUSCEND-Swimbaits-Swimming-Freshwater-Saltwater/dp/B07GP1DL4K/ref=sr_1_4_sspa?crid=2Y5B5B3XM27J7&keywords=fishing+tackle&qid=1678294514&sprefix=fishing+tackl%2Caps%2C115&sr=8-4-spons&psc=1&spLa=ZW5jcnlwdGVkUXVhbGlmaWVyPUEzUE42SjVXTThPMVNZJmVuY3J5cHRlZElkPUEwMDI3MTkyMUlURzlRWlBHOU1ZUCZlbmNyeXB0ZWRBZElkPUEwNTM2NDgyMUQySVBCUkFPUEIzQSZ3aWRnZXROYW1lPXNwX2F0ZiZhY3Rpb249Y2xpY2tSZWRpcmVjdCZkb05vdExvZ0NsaWNrPXRydWU=\"\n",
    "    HEADERS = ({\"User-Agent\": \"Mozilla/5.0 (Windows NT 10.0; Win64; x64) AppleWebKit/537.36 (KHTML, like Gecko) Chrome/110.0.0.0 Safari/537.36\"})\n",
    "\n",
    "\n",
    "    page = requests.get(URL, headers=HEADERS)\n",
    "\n",
    "    soup1 = BeautifulSoup(page.content,\"lxml\")\n",
    "\n",
    "    title = soup1.find(id = \"productTitle\").get_text()\n",
    "\n",
    "    price = soup1.find(id='priceblock_ourprice').get_text()\n",
    "\n",
    "    price = price.strip()[1:]\n",
    "    title = title.strip()\n",
    "\n",
    "    import datetime\n",
    "\n",
    "    today = datetime.date.today()\n",
    "\n",
    "    import csv\n",
    "\n",
    "    header = ['title', 'price','date']\n",
    "    data = [title, price, today]\n",
    "\n",
    "    WITH open('TackleTracker.csv', 'a+', newline='', encoding='UTF8') as f:\n",
    "        writer = csv.writer(f)\n",
    "        writer.writerow(data)"
   ]
  },
  {
   "cell_type": "code",
   "execution_count": null,
   "metadata": {},
   "outputs": [],
   "source": [
    "#every day it will check the price, the time is always in seconds\n",
    "while(TRUE):\n",
    "    check_price()\n",
    "    time.sleep(86400)"
   ]
  },
  {
   "cell_type": "code",
   "execution_count": null,
   "metadata": {},
   "outputs": [],
   "source": []
  }
 ],
 "metadata": {
  "kernelspec": {
   "display_name": "base",
   "language": "python",
   "name": "python3"
  },
  "language_info": {
   "codemirror_mode": {
    "name": "ipython",
    "version": 3
   },
   "file_extension": ".py",
   "mimetype": "text/x-python",
   "name": "python",
   "nbconvert_exporter": "python",
   "pygments_lexer": "ipython3",
   "version": "3.9.13"
  },
  "orig_nbformat": 4
 },
 "nbformat": 4,
 "nbformat_minor": 2
}
